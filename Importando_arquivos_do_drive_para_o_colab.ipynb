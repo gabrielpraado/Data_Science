{
  "nbformat": 4,
  "nbformat_minor": 0,
  "metadata": {
    "colab": {
      "name": "Importando arquivos do drive para o colab",
      "provenance": [],
      "collapsed_sections": [],
      "authorship_tag": "ABX9TyMN3Cm+870U8P1QAMdGttY0",
      "include_colab_link": true
    },
    "kernelspec": {
      "name": "python3",
      "display_name": "Python 3"
    },
    "language_info": {
      "name": "python"
    }
  },
  "cells": [
    {
      "cell_type": "markdown",
      "metadata": {
        "id": "view-in-github",
        "colab_type": "text"
      },
      "source": [
        "<a href=\"https://colab.research.google.com/github/gabrielpraado/Data_Science/blob/main/Importando_arquivos_do_drive_para_o_colab.ipynb\" target=\"_parent\"><img src=\"https://colab.research.google.com/assets/colab-badge.svg\" alt=\"Open In Colab\"/></a>"
      ]
    },
    {
      "cell_type": "markdown",
      "metadata": {
        "id": "-qFC0OQi7Uhz"
      },
      "source": [
        "![imagem.PNG](data:image/png;base64,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)\n",
        "\n",
        "\n",
        "\n",
        "#### **Importando arquivos do drive para o Colab**"
      ]
    },
    {
      "cell_type": "markdown",
      "metadata": {
        "id": "QOIdajH_8DGI"
      },
      "source": [
        "Quando se trabalha com Google Colab, a habitual forma de se importar arquivos para o ambiente IDE, utilizando o endereço completo da localização do arquivo (\"C:/Usuários/...), não funciona, sendo necessário fazer upload do arquivo para o seu Drive e posteriormente permitir o acesso e a comunicação do Colab com ele.\n",
        "Para isso, se faz necessário a utilização da ferramenta ***drive*** que faz parte da biblioteca ***google.colab***\n",
        "\n"
      ]
    },
    {
      "cell_type": "markdown",
      "metadata": {
        "id": "fq62n3GLC-a1"
      },
      "source": [
        "## Montar o Google Drive no Colab"
      ]
    },
    {
      "cell_type": "markdown",
      "metadata": {
        "id": "FMiyXq5FDMl7"
      },
      "source": [
        "Cria uma celula no notebook com o seguinte conteudo:"
      ]
    },
    {
      "cell_type": "code",
      "metadata": {
        "colab": {
          "base_uri": "https://localhost:8080/"
        },
        "id": "zF37GlTn5Yop",
        "outputId": "e4016806-db75-46d9-cbbe-f1c80fca9cd8"
      },
      "source": [
        "from google.colab import drive\n",
        "\n",
        "drive.mount('/content/drive')"
      ],
      "execution_count": null,
      "outputs": [
        {
          "output_type": "stream",
          "text": [
            "Mounted at /content/drive\n"
          ],
          "name": "stdout"
        }
      ]
    },
    {
      "cell_type": "markdown",
      "metadata": {
        "id": "L-pEfLhfDQJh"
      },
      "source": [
        "Ao fazer isso ira aparecer uma mensagem como esta:"
      ]
    },
    {
      "cell_type": "code",
      "metadata": {
        "id": "pQ0oXD0LDYxd"
      },
      "source": [
        "Go to this URL in a browser: https://accounts.google.com/o/oauth2/auth?client_id=[um-valor-bem-longo]\n",
        "\n",
        "Enter your authorization code:"
      ],
      "execution_count": null,
      "outputs": []
    },
    {
      "cell_type": "markdown",
      "metadata": {
        "id": "grIl0LqMDcJn"
      },
      "source": [
        "Acessa o URL acima, escolha uma conta Google, copie o token gerado e cole no Colab, aperte enter.\n",
        "\n",
        "Feito isso a celula atualiza e aparece a seguinte mensagem:"
      ]
    },
    {
      "cell_type": "code",
      "metadata": {
        "id": "B1UgbtGHDu4t"
      },
      "source": [
        "Mounted at /content/drive"
      ],
      "execution_count": null,
      "outputs": []
    },
    {
      "cell_type": "markdown",
      "metadata": {
        "id": "cZFOVY9KDv8T"
      },
      "source": [
        ""
      ]
    },
    {
      "cell_type": "markdown",
      "metadata": {
        "id": "ExmCcA8LD6Uj"
      },
      "source": [
        "##Enviar o arquivo para Google Drive"
      ]
    },
    {
      "cell_type": "markdown",
      "metadata": {
        "id": "PDrd5YqbD8VY"
      },
      "source": [
        "Com o drive montado, vá no seu Google Drive e faça upload do arquivo "
      ]
    },
    {
      "cell_type": "markdown",
      "metadata": {
        "id": "HHcXqo2UEJYq"
      },
      "source": [
        "##Abrir Dataset no Colab"
      ]
    },
    {
      "cell_type": "markdown",
      "metadata": {
        "id": "ME7s2xFN_jMw"
      },
      "source": [
        "Segue um exemplo abaixo de um DataFrame importado de um arquivo existente no meu drive pessoal"
      ]
    },
    {
      "cell_type": "code",
      "metadata": {
        "colab": {
          "base_uri": "https://localhost:8080/",
          "height": 195
        },
        "id": "1BKZYD7W57Ng",
        "outputId": "86d51880-0e1c-47df-9a30-1e36b5c4268e"
      },
      "source": [
        "import pandas as pd\n",
        "\n",
        "df = pd.read_csv('/content/drive/My Drive/advertising.csv')\n",
        "df.head()"
      ],
      "execution_count": null,
      "outputs": [
        {
          "output_type": "execute_result",
          "data": {
            "text/html": [
              "<div>\n",
              "<style scoped>\n",
              "    .dataframe tbody tr th:only-of-type {\n",
              "        vertical-align: middle;\n",
              "    }\n",
              "\n",
              "    .dataframe tbody tr th {\n",
              "        vertical-align: top;\n",
              "    }\n",
              "\n",
              "    .dataframe thead th {\n",
              "        text-align: right;\n",
              "    }\n",
              "</style>\n",
              "<table border=\"1\" class=\"dataframe\">\n",
              "  <thead>\n",
              "    <tr style=\"text-align: right;\">\n",
              "      <th></th>\n",
              "      <th>TV</th>\n",
              "      <th>Radio</th>\n",
              "      <th>Jornal</th>\n",
              "      <th>Vendas</th>\n",
              "    </tr>\n",
              "  </thead>\n",
              "  <tbody>\n",
              "    <tr>\n",
              "      <th>0</th>\n",
              "      <td>230.1</td>\n",
              "      <td>37.8</td>\n",
              "      <td>69.2</td>\n",
              "      <td>22.1</td>\n",
              "    </tr>\n",
              "    <tr>\n",
              "      <th>1</th>\n",
              "      <td>44.5</td>\n",
              "      <td>39.3</td>\n",
              "      <td>45.1</td>\n",
              "      <td>10.4</td>\n",
              "    </tr>\n",
              "    <tr>\n",
              "      <th>2</th>\n",
              "      <td>17.2</td>\n",
              "      <td>45.9</td>\n",
              "      <td>69.3</td>\n",
              "      <td>12.0</td>\n",
              "    </tr>\n",
              "    <tr>\n",
              "      <th>3</th>\n",
              "      <td>151.5</td>\n",
              "      <td>41.3</td>\n",
              "      <td>58.5</td>\n",
              "      <td>16.5</td>\n",
              "    </tr>\n",
              "    <tr>\n",
              "      <th>4</th>\n",
              "      <td>180.8</td>\n",
              "      <td>10.8</td>\n",
              "      <td>58.4</td>\n",
              "      <td>17.9</td>\n",
              "    </tr>\n",
              "  </tbody>\n",
              "</table>\n",
              "</div>"
            ],
            "text/plain": [
              "      TV  Radio  Jornal  Vendas\n",
              "0  230.1   37.8    69.2    22.1\n",
              "1   44.5   39.3    45.1    10.4\n",
              "2   17.2   45.9    69.3    12.0\n",
              "3  151.5   41.3    58.5    16.5\n",
              "4  180.8   10.8    58.4    17.9"
            ]
          },
          "metadata": {
            "tags": []
          },
          "execution_count": 14
        }
      ]
    }
  ]
}