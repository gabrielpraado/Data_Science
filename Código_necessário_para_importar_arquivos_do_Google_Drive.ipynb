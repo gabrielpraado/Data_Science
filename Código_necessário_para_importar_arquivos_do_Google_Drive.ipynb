{
  "nbformat": 4,
  "nbformat_minor": 0,
  "metadata": {
    "colab": {
      "name": "Código necessário para importar arquivos do Google Drive",
      "provenance": [],
      "collapsed_sections": [],
      "authorship_tag": "ABX9TyNJ30SZZsyiwmA5WApt9Dgo",
      "include_colab_link": true
    },
    "kernelspec": {
      "name": "python3",
      "display_name": "Python 3"
    },
    "language_info": {
      "name": "python"
    }
  },
  "cells": [
    {
      "cell_type": "markdown",
      "metadata": {
        "id": "view-in-github",
        "colab_type": "text"
      },
      "source": [
        "<a href=\"https://colab.research.google.com/github/gabrielpraado/Data_Science/blob/main/C%C3%B3digo_necess%C3%A1rio_para_importar_arquivos_do_Google_Drive.ipynb\" target=\"_parent\"><img src=\"https://colab.research.google.com/assets/colab-badge.svg\" alt=\"Open In Colab\"/></a>"
      ]
    },
    {
      "cell_type": "markdown",
      "metadata": {
        "id": "-qFC0OQi7Uhz"
      },
      "source": [
        "\n",
        "#### **Importando arquivos do drive para o Colab**"
      ]
    },
    {
      "cell_type": "markdown",
      "metadata": {
        "id": "QOIdajH_8DGI"
      },
      "source": [
        "Quando se trabalha com Google Colab, a habitual forma de se importar arquivos para o ambiente IDE, utilizando o endereço completo da localização do arquivo (\"C:/Usuários/...), não funciona, sendo necessário fazer upload do arquivo para o seu Drive e posteriormente permitir o acesso e a comunicação do Colab com ele.\n",
        "Para isso, se faz necessário a utilização da ferramenta ***drive*** que faz parte da biblioteca ***google.colab***\n",
        "\n"
      ]
    },
    {
      "cell_type": "markdown",
      "metadata": {
        "id": "fq62n3GLC-a1"
      },
      "source": [
        "## Montar o Google Drive no Colab"
      ]
    },
    {
      "cell_type": "markdown",
      "metadata": {
        "id": "FMiyXq5FDMl7"
      },
      "source": [
        "Cria uma celula no notebook com o seguinte conteudo:"
      ]
    },
    {
      "cell_type": "code",
      "metadata": {
        "colab": {
          "base_uri": "https://localhost:8080/"
        },
        "id": "zF37GlTn5Yop",
        "outputId": "e4016806-db75-46d9-cbbe-f1c80fca9cd8"
      },
      "source": [
        "from google.colab import drive\n",
        "\n",
        "drive.mount('/content/drive')"
      ],
      "execution_count": null,
      "outputs": [
        {
          "output_type": "stream",
          "text": [
            "Mounted at /content/drive\n"
          ],
          "name": "stdout"
        }
      ]
    },
    {
      "cell_type": "markdown",
      "metadata": {
        "id": "L-pEfLhfDQJh"
      },
      "source": [
        "Ao fazer isso ira aparecer uma mensagem como esta:"
      ]
    },
    {
      "cell_type": "code",
      "metadata": {
        "id": "pQ0oXD0LDYxd"
      },
      "source": [
        "Go to this URL in a browser: https://accounts.google.com/o/oauth2/auth?client_id=[um-valor-bem-longo]\n",
        "\n",
        "Enter your authorization code:"
      ],
      "execution_count": null,
      "outputs": []
    },
    {
      "cell_type": "markdown",
      "metadata": {
        "id": "grIl0LqMDcJn"
      },
      "source": [
        "Acessa o URL acima, escolha uma conta Google, copie o token gerado e cole no Colab, aperte enter.\n",
        "\n",
        "Feito isso a celula atualiza e aparece a seguinte mensagem:"
      ]
    },
    {
      "cell_type": "code",
      "metadata": {
        "id": "B1UgbtGHDu4t"
      },
      "source": [
        "Mounted at /content/drive"
      ],
      "execution_count": null,
      "outputs": []
    },
    {
      "cell_type": "markdown",
      "metadata": {
        "id": "cZFOVY9KDv8T"
      },
      "source": [
        ""
      ]
    },
    {
      "cell_type": "markdown",
      "metadata": {
        "id": "ExmCcA8LD6Uj"
      },
      "source": [
        "##Enviar o arquivo para Google Drive"
      ]
    },
    {
      "cell_type": "markdown",
      "metadata": {
        "id": "PDrd5YqbD8VY"
      },
      "source": [
        "Com o drive montado, vá no seu Google Drive e faça upload do arquivo "
      ]
    },
    {
      "cell_type": "markdown",
      "metadata": {
        "id": "HHcXqo2UEJYq"
      },
      "source": [
        "##Abrir Dataset no Colab"
      ]
    },
    {
      "cell_type": "code",
      "metadata": {
        "colab": {
          "base_uri": "https://localhost:8080/",
          "height": 195
        },
        "id": "1BKZYD7W57Ng",
        "outputId": "86d51880-0e1c-47df-9a30-1e36b5c4268e"
      },
      "source": [
        "import pandas as pd\n",
        "\n",
        "df = pd.read_csv('/content/drive/My Drive/advertising.csv')\n",
        "df.head()"
      ],
      "execution_count": null,
      "outputs": [
        {
          "output_type": "execute_result",
          "data": {
            "text/html": [
              "<div>\n",
              "<style scoped>\n",
              "    .dataframe tbody tr th:only-of-type {\n",
              "        vertical-align: middle;\n",
              "    }\n",
              "\n",
              "    .dataframe tbody tr th {\n",
              "        vertical-align: top;\n",
              "    }\n",
              "\n",
              "    .dataframe thead th {\n",
              "        text-align: right;\n",
              "    }\n",
              "</style>\n",
              "<table border=\"1\" class=\"dataframe\">\n",
              "  <thead>\n",
              "    <tr style=\"text-align: right;\">\n",
              "      <th></th>\n",
              "      <th>TV</th>\n",
              "      <th>Radio</th>\n",
              "      <th>Jornal</th>\n",
              "      <th>Vendas</th>\n",
              "    </tr>\n",
              "  </thead>\n",
              "  <tbody>\n",
              "    <tr>\n",
              "      <th>0</th>\n",
              "      <td>230.1</td>\n",
              "      <td>37.8</td>\n",
              "      <td>69.2</td>\n",
              "      <td>22.1</td>\n",
              "    </tr>\n",
              "    <tr>\n",
              "      <th>1</th>\n",
              "      <td>44.5</td>\n",
              "      <td>39.3</td>\n",
              "      <td>45.1</td>\n",
              "      <td>10.4</td>\n",
              "    </tr>\n",
              "    <tr>\n",
              "      <th>2</th>\n",
              "      <td>17.2</td>\n",
              "      <td>45.9</td>\n",
              "      <td>69.3</td>\n",
              "      <td>12.0</td>\n",
              "    </tr>\n",
              "    <tr>\n",
              "      <th>3</th>\n",
              "      <td>151.5</td>\n",
              "      <td>41.3</td>\n",
              "      <td>58.5</td>\n",
              "      <td>16.5</td>\n",
              "    </tr>\n",
              "    <tr>\n",
              "      <th>4</th>\n",
              "      <td>180.8</td>\n",
              "      <td>10.8</td>\n",
              "      <td>58.4</td>\n",
              "      <td>17.9</td>\n",
              "    </tr>\n",
              "  </tbody>\n",
              "</table>\n",
              "</div>"
            ],
            "text/plain": [
              "      TV  Radio  Jornal  Vendas\n",
              "0  230.1   37.8    69.2    22.1\n",
              "1   44.5   39.3    45.1    10.4\n",
              "2   17.2   45.9    69.3    12.0\n",
              "3  151.5   41.3    58.5    16.5\n",
              "4  180.8   10.8    58.4    17.9"
            ]
          },
          "metadata": {
            "tags": []
          },
          "execution_count": 14
        }
      ]
    }
  ]
}